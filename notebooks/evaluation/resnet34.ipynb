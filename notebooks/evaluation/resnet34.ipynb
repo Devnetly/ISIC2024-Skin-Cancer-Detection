{
 "cells": [
  {
   "cell_type": "markdown",
   "metadata": {},
   "source": [
    "### Necessary Packages"
   ]
  },
  {
   "cell_type": "code",
   "execution_count": 1,
   "metadata": {},
   "outputs": [],
   "source": [
    "import sys\n",
    "import os\n",
    "import torch\n",
    "import pandas as pd\n",
    "sys.path.append('../..')\n",
    "import seaborn as sns\n",
    "import numpy as np\n",
    "from tqdm.notebook import tqdm\n",
    "from src.utils import load, load_checkpoint, seed_everything, score\n",
    "from src.training.resnet_k_fold import create_dataloaders,create_network,Config\n",
    "from src.models import ResNet\n",
    "from sklearn.metrics import accuracy_score,f1_score,precision_score,recall_score,confusion_matrix,auc,roc_curve,roc_auc_score\n",
    "from torch.utils.data import DataLoader\n",
    "from tqdm.notebook import tqdm\n",
    "from definitions import *\n",
    "from functools import reduce"
   ]
  },
  {
   "cell_type": "markdown",
   "metadata": {},
   "source": [
    "### Global"
   ]
  },
  {
   "cell_type": "code",
   "execution_count": 2,
   "metadata": {},
   "outputs": [],
   "source": [
    "EXPIREMENT_NAME = 'resnet34'\n",
    "EXPIREMENT_PATH = os.path.join(EXPIREMENTS_DIR,EXPIREMENT_NAME)\n",
    "CHECKPOINTS_PATH = os.path.join(EXPIREMENT_PATH,'checkpoints')\n",
    "CONFIG_PATH = os.path.join(EXPIREMENT_PATH,'config.json')\n",
    "DEVICE = torch.device('cuda' if torch.cuda.is_available() else 'cpu')"
   ]
  },
  {
   "cell_type": "markdown",
   "metadata": {},
   "source": [
    "### Load configurations"
   ]
  },
  {
   "cell_type": "code",
   "execution_count": 3,
   "metadata": {},
   "outputs": [],
   "source": [
    "config = Config(**load(CONFIG_PATH))\n",
    "loaders,test_loader = create_dataloaders(config)"
   ]
  },
  {
   "cell_type": "markdown",
   "metadata": {},
   "source": [
    "### Reproducibility"
   ]
  },
  {
   "cell_type": "code",
   "execution_count": 4,
   "metadata": {},
   "outputs": [],
   "source": [
    "seed_everything(config.seed)"
   ]
  },
  {
   "cell_type": "markdown",
   "metadata": {},
   "source": [
    "### Models loading"
   ]
  },
  {
   "cell_type": "code",
   "execution_count": 5,
   "metadata": {},
   "outputs": [],
   "source": [
    "def create_models(checkpoints_path : str):\n",
    "\n",
    "    models = []\n",
    "    files = sorted(os.listdir(CHECKPOINTS_PATH), key=lambda x: int(x.split('_')[-1].split('.')[0]))\n",
    "\n",
    "    for checkpoint in tqdm(files):\n",
    "\n",
    "        model = create_network(config)\n",
    "        checkpoint = load_checkpoint(os.path.join(checkpoints_path), checkpoint)\n",
    "        model.load_state_dict(checkpoint['model'])\n",
    "        model.to(DEVICE)\n",
    "        model.eval()\n",
    "        models.append(model)\n",
    "\n",
    "    return models"
   ]
  },
  {
   "cell_type": "code",
   "execution_count": 6,
   "metadata": {},
   "outputs": [
    {
     "data": {
      "application/vnd.jupyter.widget-view+json": {
       "model_id": "e390de5869084e618cfe3a1a1f35ddad",
       "version_major": 2,
       "version_minor": 0
      },
      "text/plain": [
       "  0%|          | 0/5 [00:00<?, ?it/s]"
      ]
     },
     "metadata": {},
     "output_type": "display_data"
    }
   ],
   "source": [
    "models = create_models(CHECKPOINTS_PATH)"
   ]
  },
  {
   "cell_type": "markdown",
   "metadata": {},
   "source": [
    "### Make predictions on individual folds"
   ]
  },
  {
   "cell_type": "code",
   "execution_count": 7,
   "metadata": {},
   "outputs": [],
   "source": [
    "def predict(model: ResNet, dataloader: DataLoader):\n",
    "\n",
    "    model.eval()\n",
    "\n",
    "    y_true = []\n",
    "    y_pred = []\n",
    "\n",
    "    for x,y in tqdm(dataloader):\n",
    "\n",
    "        x = x.to(DEVICE)\n",
    "        y_hat = model.predict(x).detach().cpu().numpy()\n",
    "\n",
    "        y_true.extend(y.numpy())\n",
    "        y_pred.extend(y_hat)\n",
    "\n",
    "    return y_true,y_pred"
   ]
  },
  {
   "cell_type": "code",
   "execution_count": 8,
   "metadata": {},
   "outputs": [],
   "source": [
    "def predict_all(models: list, dataloaders: list[DataLoader] | DataLoader):\n",
    "    \n",
    "    results = {}\n",
    "\n",
    "    for i,model in enumerate(models):\n",
    "\n",
    "        if isinstance(dataloaders,list):\n",
    "            dataloader = dataloaders[i]\n",
    "        else:\n",
    "            dataloader = dataloaders\n",
    "\n",
    "        y_true,y_pred = predict(model,dataloader)\n",
    "\n",
    "        results[f'fold_{i}'] = pd.DataFrame({\n",
    "            'y_true': y_true,\n",
    "            'y_pred': y_pred\n",
    "        })\n",
    "\n",
    "    return results"
   ]
  },
  {
   "cell_type": "code",
   "execution_count": 9,
   "metadata": {},
   "outputs": [
    {
     "data": {
      "application/vnd.jupyter.widget-view+json": {
       "model_id": "bbb60e4acefd481f996922fafa8edcc1",
       "version_major": 2,
       "version_minor": 0
      },
      "text/plain": [
       "  0%|          | 0/2089 [00:00<?, ?it/s]"
      ]
     },
     "metadata": {},
     "output_type": "display_data"
    },
    {
     "data": {
      "application/vnd.jupyter.widget-view+json": {
       "model_id": "c2c90a1d478e4e1085c57f15ed97bf12",
       "version_major": 2,
       "version_minor": 0
      },
      "text/plain": [
       "  0%|          | 0/2089 [00:00<?, ?it/s]"
      ]
     },
     "metadata": {},
     "output_type": "display_data"
    },
    {
     "data": {
      "application/vnd.jupyter.widget-view+json": {
       "model_id": "f9bcc893554b4bfd8292cc2bb41d9461",
       "version_major": 2,
       "version_minor": 0
      },
      "text/plain": [
       "  0%|          | 0/2089 [00:00<?, ?it/s]"
      ]
     },
     "metadata": {},
     "output_type": "display_data"
    },
    {
     "data": {
      "application/vnd.jupyter.widget-view+json": {
       "model_id": "46de7c2c11a142338d2ca7771feb52e8",
       "version_major": 2,
       "version_minor": 0
      },
      "text/plain": [
       "  0%|          | 0/2089 [00:00<?, ?it/s]"
      ]
     },
     "metadata": {},
     "output_type": "display_data"
    },
    {
     "data": {
      "application/vnd.jupyter.widget-view+json": {
       "model_id": "84ca80279d824756ad276675beba49a4",
       "version_major": 2,
       "version_minor": 0
      },
      "text/plain": [
       "  0%|          | 0/2089 [00:00<?, ?it/s]"
      ]
     },
     "metadata": {},
     "output_type": "display_data"
    }
   ],
   "source": [
    "result = predict_all(models,list((val_loader for _,val_loader in loaders)))"
   ]
  },
  {
   "cell_type": "code",
   "execution_count": 10,
   "metadata": {},
   "outputs": [
    {
     "data": {
      "text/html": [
       "<div>\n",
       "<style scoped>\n",
       "    .dataframe tbody tr th:only-of-type {\n",
       "        vertical-align: middle;\n",
       "    }\n",
       "\n",
       "    .dataframe tbody tr th {\n",
       "        vertical-align: top;\n",
       "    }\n",
       "\n",
       "    .dataframe thead th {\n",
       "        text-align: right;\n",
       "    }\n",
       "</style>\n",
       "<table border=\"1\" class=\"dataframe\">\n",
       "  <thead>\n",
       "    <tr style=\"text-align: right;\">\n",
       "      <th></th>\n",
       "      <th>y_true</th>\n",
       "      <th>y_pred</th>\n",
       "    </tr>\n",
       "  </thead>\n",
       "  <tbody>\n",
       "    <tr>\n",
       "      <th>0</th>\n",
       "      <td>0.0</td>\n",
       "      <td>1.266203e-03</td>\n",
       "    </tr>\n",
       "    <tr>\n",
       "      <th>1</th>\n",
       "      <td>0.0</td>\n",
       "      <td>2.164530e-07</td>\n",
       "    </tr>\n",
       "    <tr>\n",
       "      <th>2</th>\n",
       "      <td>0.0</td>\n",
       "      <td>8.754640e-05</td>\n",
       "    </tr>\n",
       "    <tr>\n",
       "      <th>3</th>\n",
       "      <td>0.0</td>\n",
       "      <td>1.680073e-06</td>\n",
       "    </tr>\n",
       "    <tr>\n",
       "      <th>4</th>\n",
       "      <td>0.0</td>\n",
       "      <td>1.387225e-05</td>\n",
       "    </tr>\n",
       "  </tbody>\n",
       "</table>\n",
       "</div>"
      ],
      "text/plain": [
       "   y_true        y_pred\n",
       "0     0.0  1.266203e-03\n",
       "1     0.0  2.164530e-07\n",
       "2     0.0  8.754640e-05\n",
       "3     0.0  1.680073e-06\n",
       "4     0.0  1.387225e-05"
      ]
     },
     "execution_count": 10,
     "metadata": {},
     "output_type": "execute_result"
    }
   ],
   "source": [
    "result['fold_0'].head()"
   ]
  },
  {
   "cell_type": "markdown",
   "metadata": {},
   "source": [
    "### Calculate Fold-metrics"
   ]
  },
  {
   "cell_type": "code",
   "execution_count": 11,
   "metadata": {},
   "outputs": [],
   "source": [
    "def calculate_metrics(y_true : np.ndarray,y_hard : np.ndarray,y_prob : np.ndarray) -> pd.Series:\n",
    "\n",
    "    accuracy = accuracy_score(y_true,y_hard)\n",
    "    f1 = f1_score(y_true,y_hard)\n",
    "    precision = precision_score(y_true,y_hard)\n",
    "    recall = recall_score(y_true,y_hard)\n",
    "    roc_auc = roc_auc_score(y_true,y_prob)\n",
    "    pauc = score(y_true,y_prob)\n",
    "\n",
    "    results = {\n",
    "        'accuracy': accuracy,\n",
    "        'f1': f1,\n",
    "        'precision': precision,\n",
    "        'recall': recall,\n",
    "        'roc_auc': roc_auc,\n",
    "        'pauc': pauc\n",
    "    }\n",
    "\n",
    "    return pd.Series(results)"
   ]
  },
  {
   "cell_type": "code",
   "execution_count": 12,
   "metadata": {},
   "outputs": [],
   "source": [
    "def calculate_all_metrics(result: dict[str,pd.DataFrame]) -> pd.DataFrame:\n",
    "\n",
    "    metrics = []\n",
    "\n",
    "    for fold in result.keys():\n",
    "\n",
    "        y_true = result[fold]['y_true']\n",
    "        y_pred = np.int32(result[fold]['y_pred'] > 0.5)\n",
    "        y_prob = result[fold]['y_pred']\n",
    "\n",
    "        fold_result = calculate_metrics(y_true,y_pred,y_prob)\n",
    "        fold_result.name = fold\n",
    "\n",
    "        metrics.append(fold_result)\n",
    "\n",
    "    metrics = pd.DataFrame(metrics)\n",
    "\n",
    "    means = metrics.mean(axis=0)\n",
    "    stds = metrics.std(axis=0)\n",
    "    metrics.loc['mean'] = means\n",
    "    metrics.loc['std'] = stds\n",
    "\n",
    "    return metrics"
   ]
  },
  {
   "cell_type": "code",
   "execution_count": 13,
   "metadata": {},
   "outputs": [],
   "source": [
    "fold_metrics = calculate_all_metrics(result)"
   ]
  },
  {
   "cell_type": "code",
   "execution_count": 14,
   "metadata": {},
   "outputs": [
    {
     "data": {
      "text/html": [
       "<div>\n",
       "<style scoped>\n",
       "    .dataframe tbody tr th:only-of-type {\n",
       "        vertical-align: middle;\n",
       "    }\n",
       "\n",
       "    .dataframe tbody tr th {\n",
       "        vertical-align: top;\n",
       "    }\n",
       "\n",
       "    .dataframe thead th {\n",
       "        text-align: right;\n",
       "    }\n",
       "</style>\n",
       "<table border=\"1\" class=\"dataframe\">\n",
       "  <thead>\n",
       "    <tr style=\"text-align: right;\">\n",
       "      <th></th>\n",
       "      <th>accuracy</th>\n",
       "      <th>f1</th>\n",
       "      <th>precision</th>\n",
       "      <th>recall</th>\n",
       "      <th>roc_auc</th>\n",
       "      <th>pauc</th>\n",
       "    </tr>\n",
       "  </thead>\n",
       "  <tbody>\n",
       "    <tr>\n",
       "      <th>fold_0</th>\n",
       "      <td>0.983529</td>\n",
       "      <td>0.026525</td>\n",
       "      <td>0.014019</td>\n",
       "      <td>0.245902</td>\n",
       "      <td>0.906869</td>\n",
       "      <td>0.141451</td>\n",
       "    </tr>\n",
       "    <tr>\n",
       "      <th>fold_1</th>\n",
       "      <td>0.984307</td>\n",
       "      <td>0.070859</td>\n",
       "      <td>0.037951</td>\n",
       "      <td>0.533333</td>\n",
       "      <td>0.867283</td>\n",
       "      <td>0.095435</td>\n",
       "    </tr>\n",
       "    <tr>\n",
       "      <th>fold_2</th>\n",
       "      <td>0.977021</td>\n",
       "      <td>0.033962</td>\n",
       "      <td>0.017624</td>\n",
       "      <td>0.465517</td>\n",
       "      <td>0.859635</td>\n",
       "      <td>0.092715</td>\n",
       "    </tr>\n",
       "    <tr>\n",
       "      <th>fold_3</th>\n",
       "      <td>0.965097</td>\n",
       "      <td>0.034754</td>\n",
       "      <td>0.017949</td>\n",
       "      <td>0.545455</td>\n",
       "      <td>0.894129</td>\n",
       "      <td>0.119089</td>\n",
       "    </tr>\n",
       "    <tr>\n",
       "      <th>fold_4</th>\n",
       "      <td>0.980058</td>\n",
       "      <td>0.030545</td>\n",
       "      <td>0.016018</td>\n",
       "      <td>0.328125</td>\n",
       "      <td>0.850536</td>\n",
       "      <td>0.101562</td>\n",
       "    </tr>\n",
       "    <tr>\n",
       "      <th>mean</th>\n",
       "      <td>0.978002</td>\n",
       "      <td>0.039329</td>\n",
       "      <td>0.020712</td>\n",
       "      <td>0.423666</td>\n",
       "      <td>0.875690</td>\n",
       "      <td>0.110051</td>\n",
       "    </tr>\n",
       "    <tr>\n",
       "      <th>std</th>\n",
       "      <td>0.007778</td>\n",
       "      <td>0.017923</td>\n",
       "      <td>0.009762</td>\n",
       "      <td>0.131662</td>\n",
       "      <td>0.023840</td>\n",
       "      <td>0.020334</td>\n",
       "    </tr>\n",
       "  </tbody>\n",
       "</table>\n",
       "</div>"
      ],
      "text/plain": [
       "        accuracy        f1  precision    recall   roc_auc      pauc\n",
       "fold_0  0.983529  0.026525   0.014019  0.245902  0.906869  0.141451\n",
       "fold_1  0.984307  0.070859   0.037951  0.533333  0.867283  0.095435\n",
       "fold_2  0.977021  0.033962   0.017624  0.465517  0.859635  0.092715\n",
       "fold_3  0.965097  0.034754   0.017949  0.545455  0.894129  0.119089\n",
       "fold_4  0.980058  0.030545   0.016018  0.328125  0.850536  0.101562\n",
       "mean    0.978002  0.039329   0.020712  0.423666  0.875690  0.110051\n",
       "std     0.007778  0.017923   0.009762  0.131662  0.023840  0.020334"
      ]
     },
     "execution_count": 14,
     "metadata": {},
     "output_type": "execute_result"
    }
   ],
   "source": [
    "fold_metrics"
   ]
  },
  {
   "cell_type": "code",
   "execution_count": 15,
   "metadata": {},
   "outputs": [
    {
     "data": {
      "text/plain": [
       "<Axes: ylabel='pauc'>"
      ]
     },
     "execution_count": 15,
     "metadata": {},
     "output_type": "execute_result"
    },
    {
     "data": {
      "image/png": "[encoded data removed]",
      "text/plain": [
       "<Figure size 640x480 with 1 Axes>"
      ]
     },
     "metadata": {},
     "output_type": "display_data"
    }
   ],
   "source": [
    "sns.barplot(fold_metrics['pauc'].drop('std'))"
   ]
  },
  {
   "cell_type": "markdown",
   "metadata": {},
   "source": [
    "### Calculate test-set metrics"
   ]
  },
  {
   "cell_type": "code",
   "execution_count": 16,
   "metadata": {},
   "outputs": [
    {
     "data": {
      "application/vnd.jupyter.widget-view+json": {
       "model_id": "303207d0f165428e8ec5b64a39e14796",
       "version_major": 2,
       "version_minor": 0
      },
      "text/plain": [
       "  0%|          | 0/2089 [00:00<?, ?it/s]"
      ]
     },
     "metadata": {},
     "output_type": "display_data"
    },
    {
     "data": {
      "application/vnd.jupyter.widget-view+json": {
       "model_id": "d6d7f7e9519a4cbc97a2b1ab8444da49",
       "version_major": 2,
       "version_minor": 0
      },
      "text/plain": [
       "  0%|          | 0/2089 [00:00<?, ?it/s]"
      ]
     },
     "metadata": {},
     "output_type": "display_data"
    },
    {
     "data": {
      "application/vnd.jupyter.widget-view+json": {
       "model_id": "40d10d600c904ed8b73164787cc8c9b4",
       "version_major": 2,
       "version_minor": 0
      },
      "text/plain": [
       "  0%|          | 0/2089 [00:00<?, ?it/s]"
      ]
     },
     "metadata": {},
     "output_type": "display_data"
    },
    {
     "data": {
      "application/vnd.jupyter.widget-view+json": {
       "model_id": "408ee93088b1421ca46353a66b6aa40a",
       "version_major": 2,
       "version_minor": 0
      },
      "text/plain": [
       "  0%|          | 0/2089 [00:00<?, ?it/s]"
      ]
     },
     "metadata": {},
     "output_type": "display_data"
    },
    {
     "data": {
      "application/vnd.jupyter.widget-view+json": {
       "model_id": "12d1432313184969b783ea78788d3a4c",
       "version_major": 2,
       "version_minor": 0
      },
      "text/plain": [
       "  0%|          | 0/2089 [00:00<?, ?it/s]"
      ]
     },
     "metadata": {},
     "output_type": "display_data"
    }
   ],
   "source": [
    "test_result = predict_all(models,test_loader)"
   ]
  },
  {
   "cell_type": "code",
   "execution_count": 17,
   "metadata": {},
   "outputs": [
    {
     "data": {
      "text/html": [
       "<div>\n",
       "<style scoped>\n",
       "    .dataframe tbody tr th:only-of-type {\n",
       "        vertical-align: middle;\n",
       "    }\n",
       "\n",
       "    .dataframe tbody tr th {\n",
       "        vertical-align: top;\n",
       "    }\n",
       "\n",
       "    .dataframe thead th {\n",
       "        text-align: right;\n",
       "    }\n",
       "</style>\n",
       "<table border=\"1\" class=\"dataframe\">\n",
       "  <thead>\n",
       "    <tr style=\"text-align: right;\">\n",
       "      <th></th>\n",
       "      <th>y_true</th>\n",
       "      <th>y_pred</th>\n",
       "    </tr>\n",
       "  </thead>\n",
       "  <tbody>\n",
       "    <tr>\n",
       "      <th>0</th>\n",
       "      <td>0.0</td>\n",
       "      <td>0.000272</td>\n",
       "    </tr>\n",
       "    <tr>\n",
       "      <th>1</th>\n",
       "      <td>0.0</td>\n",
       "      <td>0.000051</td>\n",
       "    </tr>\n",
       "    <tr>\n",
       "      <th>2</th>\n",
       "      <td>0.0</td>\n",
       "      <td>0.000020</td>\n",
       "    </tr>\n",
       "    <tr>\n",
       "      <th>3</th>\n",
       "      <td>0.0</td>\n",
       "      <td>0.000759</td>\n",
       "    </tr>\n",
       "    <tr>\n",
       "      <th>4</th>\n",
       "      <td>0.0</td>\n",
       "      <td>0.033443</td>\n",
       "    </tr>\n",
       "  </tbody>\n",
       "</table>\n",
       "</div>"
      ],
      "text/plain": [
       "   y_true    y_pred\n",
       "0     0.0  0.000272\n",
       "1     0.0  0.000051\n",
       "2     0.0  0.000020\n",
       "3     0.0  0.000759\n",
       "4     0.0  0.033443"
      ]
     },
     "execution_count": 17,
     "metadata": {},
     "output_type": "execute_result"
    }
   ],
   "source": [
    "test_result['fold_0'].head()"
   ]
  },
  {
   "cell_type": "code",
   "execution_count": 18,
   "metadata": {},
   "outputs": [],
   "source": [
    "test_metrics = calculate_all_metrics(test_result)"
   ]
  },
  {
   "cell_type": "code",
   "execution_count": 19,
   "metadata": {},
   "outputs": [
    {
     "data": {
      "text/html": [
       "<div>\n",
       "<style scoped>\n",
       "    .dataframe tbody tr th:only-of-type {\n",
       "        vertical-align: middle;\n",
       "    }\n",
       "\n",
       "    .dataframe tbody tr th {\n",
       "        vertical-align: top;\n",
       "    }\n",
       "\n",
       "    .dataframe thead th {\n",
       "        text-align: right;\n",
       "    }\n",
       "</style>\n",
       "<table border=\"1\" class=\"dataframe\">\n",
       "  <thead>\n",
       "    <tr style=\"text-align: right;\">\n",
       "      <th></th>\n",
       "      <th>accuracy</th>\n",
       "      <th>f1</th>\n",
       "      <th>precision</th>\n",
       "      <th>recall</th>\n",
       "      <th>roc_auc</th>\n",
       "      <th>pauc</th>\n",
       "    </tr>\n",
       "  </thead>\n",
       "  <tbody>\n",
       "    <tr>\n",
       "      <th>fold_0</th>\n",
       "      <td>0.980312</td>\n",
       "      <td>0.030928</td>\n",
       "      <td>0.016154</td>\n",
       "      <td>0.362069</td>\n",
       "      <td>0.848568</td>\n",
       "      <td>0.092311</td>\n",
       "    </tr>\n",
       "    <tr>\n",
       "      <th>fold_1</th>\n",
       "      <td>0.982466</td>\n",
       "      <td>0.028192</td>\n",
       "      <td>0.014808</td>\n",
       "      <td>0.293103</td>\n",
       "      <td>0.872095</td>\n",
       "      <td>0.119871</td>\n",
       "    </tr>\n",
       "    <tr>\n",
       "      <th>fold_2</th>\n",
       "      <td>0.973759</td>\n",
       "      <td>0.027716</td>\n",
       "      <td>0.014318</td>\n",
       "      <td>0.431034</td>\n",
       "      <td>0.869900</td>\n",
       "      <td>0.110747</td>\n",
       "    </tr>\n",
       "    <tr>\n",
       "      <th>fold_3</th>\n",
       "      <td>0.968778</td>\n",
       "      <td>0.025222</td>\n",
       "      <td>0.012962</td>\n",
       "      <td>0.465517</td>\n",
       "      <td>0.890029</td>\n",
       "      <td>0.124895</td>\n",
       "    </tr>\n",
       "    <tr>\n",
       "      <th>fold_4</th>\n",
       "      <td>0.974971</td>\n",
       "      <td>0.022209</td>\n",
       "      <td>0.011494</td>\n",
       "      <td>0.327586</td>\n",
       "      <td>0.866635</td>\n",
       "      <td>0.113991</td>\n",
       "    </tr>\n",
       "    <tr>\n",
       "      <th>mean</th>\n",
       "      <td>0.976057</td>\n",
       "      <td>0.026853</td>\n",
       "      <td>0.013947</td>\n",
       "      <td>0.375862</td>\n",
       "      <td>0.869445</td>\n",
       "      <td>0.112363</td>\n",
       "    </tr>\n",
       "    <tr>\n",
       "      <th>std</th>\n",
       "      <td>0.005446</td>\n",
       "      <td>0.003293</td>\n",
       "      <td>0.001784</td>\n",
       "      <td>0.071505</td>\n",
       "      <td>0.014787</td>\n",
       "      <td>0.012457</td>\n",
       "    </tr>\n",
       "  </tbody>\n",
       "</table>\n",
       "</div>"
      ],
      "text/plain": [
       "        accuracy        f1  precision    recall   roc_auc      pauc\n",
       "fold_0  0.980312  0.030928   0.016154  0.362069  0.848568  0.092311\n",
       "fold_1  0.982466  0.028192   0.014808  0.293103  0.872095  0.119871\n",
       "fold_2  0.973759  0.027716   0.014318  0.431034  0.869900  0.110747\n",
       "fold_3  0.968778  0.025222   0.012962  0.465517  0.890029  0.124895\n",
       "fold_4  0.974971  0.022209   0.011494  0.327586  0.866635  0.113991\n",
       "mean    0.976057  0.026853   0.013947  0.375862  0.869445  0.112363\n",
       "std     0.005446  0.003293   0.001784  0.071505  0.014787  0.012457"
      ]
     },
     "execution_count": 19,
     "metadata": {},
     "output_type": "execute_result"
    }
   ],
   "source": [
    "test_metrics"
   ]
  },
  {
   "cell_type": "code",
   "execution_count": 20,
   "metadata": {},
   "outputs": [
    {
     "data": {
      "text/plain": [
       "<Axes: ylabel='pauc'>"
      ]
     },
     "execution_count": 20,
     "metadata": {},
     "output_type": "execute_result"
    },
    {
     "data": {
      "image/png": "[encoded data removed]",
      "text/plain": [
       "<Figure size 640x480 with 1 Axes>"
      ]
     },
     "metadata": {},
     "output_type": "display_data"
    }
   ],
   "source": [
    "sns.barplot(test_metrics['pauc'].drop('std'))"
   ]
  },
  {
   "cell_type": "markdown",
   "metadata": {},
   "source": [
    "### The mean of the models"
   ]
  },
  {
   "cell_type": "code",
   "execution_count": 21,
   "metadata": {},
   "outputs": [],
   "source": [
    "mean = reduce(lambda a,b : a+b,(test_result[key]['y_pred'] for key in test_result.keys())) / len(test_result.keys())"
   ]
  },
  {
   "cell_type": "code",
   "execution_count": 22,
   "metadata": {},
   "outputs": [
    {
     "data": {
      "text/plain": [
       "accuracy     0.985982\n",
       "f1           0.046796\n",
       "precision    0.024865\n",
       "recall       0.396552\n",
       "roc_auc      0.890886\n",
       "pauc         0.120268\n",
       "Name: mean, dtype: float64"
      ]
     },
     "execution_count": 22,
     "metadata": {},
     "output_type": "execute_result"
    }
   ],
   "source": [
    "mean_metrcis = calculate_metrics(test_result['fold_0']['y_true'],np.int32(mean > 0.5),mean)\n",
    "mean_metrcis.name = 'mean'\n",
    "mean_metrcis"
   ]
  }
 ],
 "metadata": {
  "kernelspec": {
   "display_name": "project",
   "language": "python",
   "name": "python3"
  },
  "language_info": {
   "codemirror_mode": {
    "name": "ipython",
    "version": 3
   },
   "file_extension": ".py",
   "mimetype": "text/x-python",
   "name": "python",
   "nbconvert_exporter": "python",
   "pygments_lexer": "ipython3",
   "version": "3.12.2"
  }
 },
 "nbformat": 4,
 "nbformat_minor": 2
}
