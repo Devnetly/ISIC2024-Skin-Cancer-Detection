{
 "cells": [
  {
   "cell_type": "markdown",
   "metadata": {},
   "source": [
    "### Necessary Packages"
   ]
  },
  {
   "cell_type": "code",
   "execution_count": 2,
   "metadata": {},
   "outputs": [],
   "source": [
    "import sys\n",
    "import os\n",
    "import torch\n",
    "import pandas as pd\n",
    "sys.path.append('../..')\n",
    "import seaborn as sns\n",
    "import numpy as np\n",
    "from tqdm.notebook import tqdm\n",
    "from src.utils import load, load_checkpoint, seed_everything, score\n",
    "from src.training.resnet_k_fold import create_dataloaders,create_network,Config\n",
    "from src.models import ResNet\n",
    "from sklearn.metrics import accuracy_score,f1_score,precision_score,recall_score,confusion_matrix,auc,roc_curve,roc_auc_score\n",
    "from torch.utils.data import DataLoader\n",
    "from tqdm.notebook import tqdm\n",
    "from definitions import *\n",
    "from functools import reduce"
   ]
  },
  {
   "cell_type": "markdown",
   "metadata": {},
   "source": [
    "### Global"
   ]
  },
  {
   "cell_type": "code",
   "execution_count": 3,
   "metadata": {},
   "outputs": [],
   "source": [
    "EXPIREMENT_NAME = 'resnet18'\n",
    "EXPIREMENT_PATH = os.path.join(EXPIREMENTS_DIR,EXPIREMENT_NAME)\n",
    "CHECKPOINTS_PATH = os.path.join(EXPIREMENT_PATH,'checkpoints')\n",
    "CONFIG_PATH = os.path.join(EXPIREMENT_PATH,'config.json')\n",
    "DEVICE = torch.device('cuda' if torch.cuda.is_available() else 'cpu')"
   ]
  },
  {
   "cell_type": "markdown",
   "metadata": {},
   "source": [
    "### Load configurations"
   ]
  },
  {
   "cell_type": "code",
   "execution_count": 4,
   "metadata": {},
   "outputs": [],
   "source": [
    "config = Config(**load(CONFIG_PATH))\n",
    "loaders,test_loader = create_dataloaders(config)"
   ]
  },
  {
   "cell_type": "markdown",
   "metadata": {},
   "source": [
    "### Reproducibility"
   ]
  },
  {
   "cell_type": "code",
   "execution_count": 5,
   "metadata": {},
   "outputs": [],
   "source": [
    "seed_everything(config.seed)"
   ]
  },
  {
   "cell_type": "markdown",
   "metadata": {},
   "source": [
    "### Models loading"
   ]
  },
  {
   "cell_type": "code",
   "execution_count": 6,
   "metadata": {},
   "outputs": [],
   "source": [
    "def create_models(checkpoints_path : str):\n",
    "\n",
    "    models = []\n",
    "    files = sorted(os.listdir(CHECKPOINTS_PATH), key=lambda x: int(x.split('_')[-1].split('.')[0]))\n",
    "\n",
    "    for checkpoint in tqdm(files):\n",
    "\n",
    "        model = create_network(config)\n",
    "        checkpoint = load_checkpoint(os.path.join(checkpoints_path, checkpoint), 'checkpoint_1.pt')\n",
    "        model.load_state_dict(checkpoint['model'])\n",
    "        model.to(DEVICE)\n",
    "        model.eval()\n",
    "        models.append(model)\n",
    "\n",
    "    return models"
   ]
  },
  {
   "cell_type": "code",
   "execution_count": 7,
   "metadata": {},
   "outputs": [
    {
     "data": {
      "application/vnd.jupyter.widget-view+json": {
       "model_id": "9570a44eed4e4e53a39f7b7977789d87",
       "version_major": 2,
       "version_minor": 0
      },
      "text/plain": [
       "  0%|          | 0/5 [00:00<?, ?it/s]"
      ]
     },
     "metadata": {},
     "output_type": "display_data"
    }
   ],
   "source": [
    "models = create_models(CHECKPOINTS_PATH)"
   ]
  },
  {
   "cell_type": "markdown",
   "metadata": {},
   "source": [
    "### Make predictions on individual folds"
   ]
  },
  {
   "cell_type": "code",
   "execution_count": 8,
   "metadata": {},
   "outputs": [],
   "source": [
    "def predict(model: ResNet, dataloader: DataLoader):\n",
    "\n",
    "    model.eval()\n",
    "\n",
    "    y_true = []\n",
    "    y_pred = []\n",
    "\n",
    "    for x,y in tqdm(dataloader):\n",
    "\n",
    "        x = x.to(DEVICE)\n",
    "        y_hat = model.predict(x).detach().cpu().numpy()\n",
    "\n",
    "        y_true.extend(y.numpy())\n",
    "        y_pred.extend(y_hat)\n",
    "\n",
    "    return y_true,y_pred"
   ]
  },
  {
   "cell_type": "code",
   "execution_count": 9,
   "metadata": {},
   "outputs": [],
   "source": [
    "def predict_all(models: list, dataloaders: list[DataLoader] | DataLoader):\n",
    "    \n",
    "    results = {}\n",
    "\n",
    "    for i,model in enumerate(models):\n",
    "\n",
    "        if isinstance(dataloaders,list):\n",
    "            dataloader = dataloaders[i]\n",
    "        else:\n",
    "            dataloader = dataloaders\n",
    "\n",
    "        y_true,y_pred = predict(model,dataloader)\n",
    "\n",
    "        results[f'fold_{i}'] = pd.DataFrame({\n",
    "            'y_true': y_true,\n",
    "            'y_pred': y_pred\n",
    "        })\n",
    "\n",
    "    return results"
   ]
  },
  {
   "cell_type": "code",
   "execution_count": 10,
   "metadata": {},
   "outputs": [
    {
     "data": {
      "application/vnd.jupyter.widget-view+json": {
       "model_id": "04f031c8b4ac498490a70709d488c709",
       "version_major": 2,
       "version_minor": 0
      },
      "text/plain": [
       "  0%|          | 0/2089 [00:00<?, ?it/s]"
      ]
     },
     "metadata": {},
     "output_type": "display_data"
    },
    {
     "data": {
      "application/vnd.jupyter.widget-view+json": {
       "model_id": "5cfbd69bdeff436aa65c6d9466dd2994",
       "version_major": 2,
       "version_minor": 0
      },
      "text/plain": [
       "  0%|          | 0/2089 [00:00<?, ?it/s]"
      ]
     },
     "metadata": {},
     "output_type": "display_data"
    },
    {
     "data": {
      "application/vnd.jupyter.widget-view+json": {
       "model_id": "025fe05e29eb4998bc2ff4f9f5fdf556",
       "version_major": 2,
       "version_minor": 0
      },
      "text/plain": [
       "  0%|          | 0/2089 [00:00<?, ?it/s]"
      ]
     },
     "metadata": {},
     "output_type": "display_data"
    },
    {
     "data": {
      "application/vnd.jupyter.widget-view+json": {
       "model_id": "5f42f05db5cb44bd9f02d9ba44c6ed54",
       "version_major": 2,
       "version_minor": 0
      },
      "text/plain": [
       "  0%|          | 0/2089 [00:00<?, ?it/s]"
      ]
     },
     "metadata": {},
     "output_type": "display_data"
    },
    {
     "data": {
      "application/vnd.jupyter.widget-view+json": {
       "model_id": "731aef3b76564a0b8613e6f18fc55a22",
       "version_major": 2,
       "version_minor": 0
      },
      "text/plain": [
       "  0%|          | 0/2089 [00:00<?, ?it/s]"
      ]
     },
     "metadata": {},
     "output_type": "display_data"
    }
   ],
   "source": [
    "result = predict_all(models,list((val_loader for _,val_loader in loaders)))"
   ]
  },
  {
   "cell_type": "code",
   "execution_count": 11,
   "metadata": {},
   "outputs": [
    {
     "data": {
      "text/html": [
       "<div>\n",
       "<style scoped>\n",
       "    .dataframe tbody tr th:only-of-type {\n",
       "        vertical-align: middle;\n",
       "    }\n",
       "\n",
       "    .dataframe tbody tr th {\n",
       "        vertical-align: top;\n",
       "    }\n",
       "\n",
       "    .dataframe thead th {\n",
       "        text-align: right;\n",
       "    }\n",
       "</style>\n",
       "<table border=\"1\" class=\"dataframe\">\n",
       "  <thead>\n",
       "    <tr style=\"text-align: right;\">\n",
       "      <th></th>\n",
       "      <th>y_true</th>\n",
       "      <th>y_pred</th>\n",
       "    </tr>\n",
       "  </thead>\n",
       "  <tbody>\n",
       "    <tr>\n",
       "      <th>0</th>\n",
       "      <td>0.0</td>\n",
       "      <td>1.092139e-06</td>\n",
       "    </tr>\n",
       "    <tr>\n",
       "      <th>1</th>\n",
       "      <td>0.0</td>\n",
       "      <td>9.630987e-08</td>\n",
       "    </tr>\n",
       "    <tr>\n",
       "      <th>2</th>\n",
       "      <td>0.0</td>\n",
       "      <td>4.427047e-05</td>\n",
       "    </tr>\n",
       "    <tr>\n",
       "      <th>3</th>\n",
       "      <td>0.0</td>\n",
       "      <td>1.483070e-05</td>\n",
       "    </tr>\n",
       "    <tr>\n",
       "      <th>4</th>\n",
       "      <td>0.0</td>\n",
       "      <td>4.088507e-08</td>\n",
       "    </tr>\n",
       "  </tbody>\n",
       "</table>\n",
       "</div>"
      ],
      "text/plain": [
       "   y_true        y_pred\n",
       "0     0.0  1.092139e-06\n",
       "1     0.0  9.630987e-08\n",
       "2     0.0  4.427047e-05\n",
       "3     0.0  1.483070e-05\n",
       "4     0.0  4.088507e-08"
      ]
     },
     "execution_count": 11,
     "metadata": {},
     "output_type": "execute_result"
    }
   ],
   "source": [
    "result['fold_0'].head()"
   ]
  },
  {
   "cell_type": "markdown",
   "metadata": {},
   "source": [
    "### Calculate Fold-metrics"
   ]
  },
  {
   "cell_type": "code",
   "execution_count": 12,
   "metadata": {},
   "outputs": [],
   "source": [
    "def calculate_metrics(y_true : np.ndarray,y_hard : np.ndarray,y_prob : np.ndarray) -> pd.Series:\n",
    "\n",
    "    accuracy = accuracy_score(y_true,y_hard)\n",
    "    f1 = f1_score(y_true,y_hard)\n",
    "    precision = precision_score(y_true,y_hard)\n",
    "    recall = recall_score(y_true,y_hard)\n",
    "    roc_auc = roc_auc_score(y_true,y_prob)\n",
    "    pauc = score(y_true,y_prob)\n",
    "\n",
    "    results = {\n",
    "        'accuracy': accuracy,\n",
    "        'f1': f1,\n",
    "        'precision': precision,\n",
    "        'recall': recall,\n",
    "        'roc_auc': roc_auc,\n",
    "        'pauc': pauc\n",
    "    }\n",
    "\n",
    "    return pd.Series(results)"
   ]
  },
  {
   "cell_type": "code",
   "execution_count": 13,
   "metadata": {},
   "outputs": [],
   "source": [
    "def calculate_all_metrics(result: dict[str,pd.DataFrame]) -> pd.DataFrame:\n",
    "\n",
    "    metrics = []\n",
    "\n",
    "    for fold in result.keys():\n",
    "\n",
    "        y_true = result[fold]['y_true']\n",
    "        y_pred = np.int32(result[fold]['y_pred'] > 0.5)\n",
    "        y_prob = result[fold]['y_pred']\n",
    "\n",
    "        fold_result = calculate_metrics(y_true,y_pred,y_prob)\n",
    "        fold_result.name = fold\n",
    "\n",
    "        metrics.append(fold_result)\n",
    "\n",
    "    metrics = pd.DataFrame(metrics)\n",
    "\n",
    "    means = metrics.mean(axis=0)\n",
    "    stds = metrics.std(axis=0)\n",
    "    metrics.loc['mean'] = means\n",
    "    metrics.loc['std'] = stds\n",
    "\n",
    "    return metrics"
   ]
  },
  {
   "cell_type": "code",
   "execution_count": 14,
   "metadata": {},
   "outputs": [],
   "source": [
    "fold_metrics = calculate_all_metrics(result)"
   ]
  },
  {
   "cell_type": "code",
   "execution_count": 15,
   "metadata": {},
   "outputs": [
    {
     "data": {
      "text/html": [
       "<div>\n",
       "<style scoped>\n",
       "    .dataframe tbody tr th:only-of-type {\n",
       "        vertical-align: middle;\n",
       "    }\n",
       "\n",
       "    .dataframe tbody tr th {\n",
       "        vertical-align: top;\n",
       "    }\n",
       "\n",
       "    .dataframe thead th {\n",
       "        text-align: right;\n",
       "    }\n",
       "</style>\n",
       "<table border=\"1\" class=\"dataframe\">\n",
       "  <thead>\n",
       "    <tr style=\"text-align: right;\">\n",
       "      <th></th>\n",
       "      <th>accuracy</th>\n",
       "      <th>f1</th>\n",
       "      <th>precision</th>\n",
       "      <th>recall</th>\n",
       "      <th>roc_auc</th>\n",
       "      <th>pauc</th>\n",
       "    </tr>\n",
       "  </thead>\n",
       "  <tbody>\n",
       "    <tr>\n",
       "      <th>fold_0</th>\n",
       "      <td>0.975959</td>\n",
       "      <td>0.030175</td>\n",
       "      <td>0.015664</td>\n",
       "      <td>0.409836</td>\n",
       "      <td>0.864028</td>\n",
       "      <td>0.111888</td>\n",
       "    </tr>\n",
       "    <tr>\n",
       "      <th>fold_1</th>\n",
       "      <td>0.983005</td>\n",
       "      <td>0.058043</td>\n",
       "      <td>0.030946</td>\n",
       "      <td>0.466667</td>\n",
       "      <td>0.895020</td>\n",
       "      <td>0.116010</td>\n",
       "    </tr>\n",
       "    <tr>\n",
       "      <th>fold_2</th>\n",
       "      <td>0.978816</td>\n",
       "      <td>0.030137</td>\n",
       "      <td>0.015692</td>\n",
       "      <td>0.379310</td>\n",
       "      <td>0.855411</td>\n",
       "      <td>0.095946</td>\n",
       "    </tr>\n",
       "    <tr>\n",
       "      <th>fold_3</th>\n",
       "      <td>0.974552</td>\n",
       "      <td>0.040609</td>\n",
       "      <td>0.021226</td>\n",
       "      <td>0.467532</td>\n",
       "      <td>0.889559</td>\n",
       "      <td>0.118964</td>\n",
       "    </tr>\n",
       "    <tr>\n",
       "      <th>fold_4</th>\n",
       "      <td>0.983529</td>\n",
       "      <td>0.035057</td>\n",
       "      <td>0.018570</td>\n",
       "      <td>0.312500</td>\n",
       "      <td>0.866903</td>\n",
       "      <td>0.114315</td>\n",
       "    </tr>\n",
       "    <tr>\n",
       "      <th>mean</th>\n",
       "      <td>0.979172</td>\n",
       "      <td>0.038804</td>\n",
       "      <td>0.020420</td>\n",
       "      <td>0.407169</td>\n",
       "      <td>0.874184</td>\n",
       "      <td>0.111425</td>\n",
       "    </tr>\n",
       "    <tr>\n",
       "      <th>std</th>\n",
       "      <td>0.004045</td>\n",
       "      <td>0.011587</td>\n",
       "      <td>0.006321</td>\n",
       "      <td>0.065056</td>\n",
       "      <td>0.017169</td>\n",
       "      <td>0.009028</td>\n",
       "    </tr>\n",
       "  </tbody>\n",
       "</table>\n",
       "</div>"
      ],
      "text/plain": [
       "        accuracy        f1  precision    recall   roc_auc      pauc\n",
       "fold_0  0.975959  0.030175   0.015664  0.409836  0.864028  0.111888\n",
       "fold_1  0.983005  0.058043   0.030946  0.466667  0.895020  0.116010\n",
       "fold_2  0.978816  0.030137   0.015692  0.379310  0.855411  0.095946\n",
       "fold_3  0.974552  0.040609   0.021226  0.467532  0.889559  0.118964\n",
       "fold_4  0.983529  0.035057   0.018570  0.312500  0.866903  0.114315\n",
       "mean    0.979172  0.038804   0.020420  0.407169  0.874184  0.111425\n",
       "std     0.004045  0.011587   0.006321  0.065056  0.017169  0.009028"
      ]
     },
     "execution_count": 15,
     "metadata": {},
     "output_type": "execute_result"
    }
   ],
   "source": [
    "fold_metrics"
   ]
  },
  {
   "cell_type": "code",
   "execution_count": 16,
   "metadata": {},
   "outputs": [
    {
     "data": {
      "text/plain": [
       "<Axes: ylabel='pauc'>"
      ]
     },
     "execution_count": 16,
     "metadata": {},
     "output_type": "execute_result"
    },
    {
     "data": {
      "image/png": "[encoded data removed]",
      "text/plain": [
       "<Figure size 640x480 with 1 Axes>"
      ]
     },
     "metadata": {},
     "output_type": "display_data"
    }
   ],
   "source": [
    "sns.barplot(fold_metrics['pauc'].drop('std'))"
   ]
  },
  {
   "cell_type": "markdown",
   "metadata": {},
   "source": [
    "### Calculate test-set metrics"
   ]
  },
  {
   "cell_type": "code",
   "execution_count": 17,
   "metadata": {},
   "outputs": [
    {
     "data": {
      "application/vnd.jupyter.widget-view+json": {
       "model_id": "feffb4a8029b4e808e6158b1d45238cb",
       "version_major": 2,
       "version_minor": 0
      },
      "text/plain": [
       "  0%|          | 0/2089 [00:00<?, ?it/s]"
      ]
     },
     "metadata": {},
     "output_type": "display_data"
    },
    {
     "data": {
      "application/vnd.jupyter.widget-view+json": {
       "model_id": "2a013b3da2bd4212bbb00c2a885dc1e9",
       "version_major": 2,
       "version_minor": 0
      },
      "text/plain": [
       "  0%|          | 0/2089 [00:00<?, ?it/s]"
      ]
     },
     "metadata": {},
     "output_type": "display_data"
    },
    {
     "data": {
      "application/vnd.jupyter.widget-view+json": {
       "model_id": "908ade7e9d644c229784e779d7b3ab2b",
       "version_major": 2,
       "version_minor": 0
      },
      "text/plain": [
       "  0%|          | 0/2089 [00:00<?, ?it/s]"
      ]
     },
     "metadata": {},
     "output_type": "display_data"
    },
    {
     "data": {
      "application/vnd.jupyter.widget-view+json": {
       "model_id": "d5f9cd2c12964656a581b79d950457c1",
       "version_major": 2,
       "version_minor": 0
      },
      "text/plain": [
       "  0%|          | 0/2089 [00:00<?, ?it/s]"
      ]
     },
     "metadata": {},
     "output_type": "display_data"
    },
    {
     "data": {
      "application/vnd.jupyter.widget-view+json": {
       "model_id": "c36c22e5d81b4b2fa649c9d52b77b0dc",
       "version_major": 2,
       "version_minor": 0
      },
      "text/plain": [
       "  0%|          | 0/2089 [00:00<?, ?it/s]"
      ]
     },
     "metadata": {},
     "output_type": "display_data"
    }
   ],
   "source": [
    "test_result = predict_all(models,test_loader)"
   ]
  },
  {
   "cell_type": "code",
   "execution_count": 18,
   "metadata": {},
   "outputs": [
    {
     "data": {
      "text/html": [
       "<div>\n",
       "<style scoped>\n",
       "    .dataframe tbody tr th:only-of-type {\n",
       "        vertical-align: middle;\n",
       "    }\n",
       "\n",
       "    .dataframe tbody tr th {\n",
       "        vertical-align: top;\n",
       "    }\n",
       "\n",
       "    .dataframe thead th {\n",
       "        text-align: right;\n",
       "    }\n",
       "</style>\n",
       "<table border=\"1\" class=\"dataframe\">\n",
       "  <thead>\n",
       "    <tr style=\"text-align: right;\">\n",
       "      <th></th>\n",
       "      <th>y_true</th>\n",
       "      <th>y_pred</th>\n",
       "    </tr>\n",
       "  </thead>\n",
       "  <tbody>\n",
       "    <tr>\n",
       "      <th>0</th>\n",
       "      <td>0.0</td>\n",
       "      <td>0.003175</td>\n",
       "    </tr>\n",
       "    <tr>\n",
       "      <th>1</th>\n",
       "      <td>0.0</td>\n",
       "      <td>0.000016</td>\n",
       "    </tr>\n",
       "    <tr>\n",
       "      <th>2</th>\n",
       "      <td>0.0</td>\n",
       "      <td>0.000017</td>\n",
       "    </tr>\n",
       "    <tr>\n",
       "      <th>3</th>\n",
       "      <td>0.0</td>\n",
       "      <td>0.000324</td>\n",
       "    </tr>\n",
       "    <tr>\n",
       "      <th>4</th>\n",
       "      <td>0.0</td>\n",
       "      <td>0.023066</td>\n",
       "    </tr>\n",
       "  </tbody>\n",
       "</table>\n",
       "</div>"
      ],
      "text/plain": [
       "   y_true    y_pred\n",
       "0     0.0  0.003175\n",
       "1     0.0  0.000016\n",
       "2     0.0  0.000017\n",
       "3     0.0  0.000324\n",
       "4     0.0  0.023066"
      ]
     },
     "execution_count": 18,
     "metadata": {},
     "output_type": "execute_result"
    }
   ],
   "source": [
    "test_result['fold_0'].head()"
   ]
  },
  {
   "cell_type": "code",
   "execution_count": 19,
   "metadata": {},
   "outputs": [],
   "source": [
    "test_metrics = calculate_all_metrics(test_result)"
   ]
  },
  {
   "cell_type": "code",
   "execution_count": 20,
   "metadata": {},
   "outputs": [
    {
     "data": {
      "text/html": [
       "<div>\n",
       "<style scoped>\n",
       "    .dataframe tbody tr th:only-of-type {\n",
       "        vertical-align: middle;\n",
       "    }\n",
       "\n",
       "    .dataframe tbody tr th {\n",
       "        vertical-align: top;\n",
       "    }\n",
       "\n",
       "    .dataframe thead th {\n",
       "        text-align: right;\n",
       "    }\n",
       "</style>\n",
       "<table border=\"1\" class=\"dataframe\">\n",
       "  <thead>\n",
       "    <tr style=\"text-align: right;\">\n",
       "      <th></th>\n",
       "      <th>accuracy</th>\n",
       "      <th>f1</th>\n",
       "      <th>precision</th>\n",
       "      <th>recall</th>\n",
       "      <th>roc_auc</th>\n",
       "      <th>pauc</th>\n",
       "    </tr>\n",
       "  </thead>\n",
       "  <tbody>\n",
       "    <tr>\n",
       "      <th>fold_0</th>\n",
       "      <td>0.974822</td>\n",
       "      <td>0.031088</td>\n",
       "      <td>0.016081</td>\n",
       "      <td>0.465517</td>\n",
       "      <td>0.876400</td>\n",
       "      <td>0.118264</td>\n",
       "    </tr>\n",
       "    <tr>\n",
       "      <th>fold_1</th>\n",
       "      <td>0.979385</td>\n",
       "      <td>0.026836</td>\n",
       "      <td>0.013991</td>\n",
       "      <td>0.327586</td>\n",
       "      <td>0.849408</td>\n",
       "      <td>0.093635</td>\n",
       "    </tr>\n",
       "    <tr>\n",
       "      <th>fold_2</th>\n",
       "      <td>0.976841</td>\n",
       "      <td>0.023960</td>\n",
       "      <td>0.012435</td>\n",
       "      <td>0.327586</td>\n",
       "      <td>0.890514</td>\n",
       "      <td>0.128193</td>\n",
       "    </tr>\n",
       "    <tr>\n",
       "      <th>fold_3</th>\n",
       "      <td>0.973939</td>\n",
       "      <td>0.026816</td>\n",
       "      <td>0.013857</td>\n",
       "      <td>0.413793</td>\n",
       "      <td>0.881902</td>\n",
       "      <td>0.113569</td>\n",
       "    </tr>\n",
       "    <tr>\n",
       "      <th>fold_4</th>\n",
       "      <td>0.977245</td>\n",
       "      <td>0.028115</td>\n",
       "      <td>0.014599</td>\n",
       "      <td>0.379310</td>\n",
       "      <td>0.835703</td>\n",
       "      <td>0.087184</td>\n",
       "    </tr>\n",
       "    <tr>\n",
       "      <th>mean</th>\n",
       "      <td>0.976446</td>\n",
       "      <td>0.027363</td>\n",
       "      <td>0.014192</td>\n",
       "      <td>0.382759</td>\n",
       "      <td>0.866786</td>\n",
       "      <td>0.108169</td>\n",
       "    </tr>\n",
       "    <tr>\n",
       "      <th>std</th>\n",
       "      <td>0.002142</td>\n",
       "      <td>0.002579</td>\n",
       "      <td>0.001321</td>\n",
       "      <td>0.058975</td>\n",
       "      <td>0.023196</td>\n",
       "      <td>0.017202</td>\n",
       "    </tr>\n",
       "  </tbody>\n",
       "</table>\n",
       "</div>"
      ],
      "text/plain": [
       "        accuracy        f1  precision    recall   roc_auc      pauc\n",
       "fold_0  0.974822  0.031088   0.016081  0.465517  0.876400  0.118264\n",
       "fold_1  0.979385  0.026836   0.013991  0.327586  0.849408  0.093635\n",
       "fold_2  0.976841  0.023960   0.012435  0.327586  0.890514  0.128193\n",
       "fold_3  0.973939  0.026816   0.013857  0.413793  0.881902  0.113569\n",
       "fold_4  0.977245  0.028115   0.014599  0.379310  0.835703  0.087184\n",
       "mean    0.976446  0.027363   0.014192  0.382759  0.866786  0.108169\n",
       "std     0.002142  0.002579   0.001321  0.058975  0.023196  0.017202"
      ]
     },
     "execution_count": 20,
     "metadata": {},
     "output_type": "execute_result"
    }
   ],
   "source": [
    "test_metrics"
   ]
  },
  {
   "cell_type": "code",
   "execution_count": 21,
   "metadata": {},
   "outputs": [
    {
     "data": {
      "text/plain": [
       "<Axes: ylabel='pauc'>"
      ]
     },
     "execution_count": 21,
     "metadata": {},
     "output_type": "execute_result"
    },
    {
     "data": {
      "image/png": "[encoded data removed]",
      "text/plain": [
       "<Figure size 640x480 with 1 Axes>"
      ]
     },
     "metadata": {},
     "output_type": "display_data"
    }
   ],
   "source": [
    "sns.barplot(test_metrics['pauc'].drop('std'))"
   ]
  },
  {
   "cell_type": "markdown",
   "metadata": {},
   "source": [
    "### The mean of the models"
   ]
  },
  {
   "cell_type": "code",
   "execution_count": 22,
   "metadata": {},
   "outputs": [],
   "source": [
    "mean = reduce(lambda a,b : a+b,(test_result[key]['y_pred'] for key in test_result.keys())) / len(test_result.keys())"
   ]
  },
  {
   "cell_type": "code",
   "execution_count": 23,
   "metadata": {},
   "outputs": [
    {
     "data": {
      "text/plain": [
       "accuracy     0.986610\n",
       "f1           0.042781\n",
       "precision    0.022805\n",
       "recall       0.344828\n",
       "roc_auc      0.910636\n",
       "pauc         0.134574\n",
       "Name: mean, dtype: float64"
      ]
     },
     "execution_count": 23,
     "metadata": {},
     "output_type": "execute_result"
    }
   ],
   "source": [
    "mean_metrcis = calculate_metrics(test_result['fold_0']['y_true'],np.int32(mean > 0.5),mean)\n",
    "mean_metrcis.name = 'mean'\n",
    "mean_metrcis"
   ]
  }
 ],
 "metadata": {
  "kernelspec": {
   "display_name": "project",
   "language": "python",
   "name": "python3"
  },
  "language_info": {
   "codemirror_mode": {
    "name": "ipython",
    "version": 3
   },
   "file_extension": ".py",
   "mimetype": "text/x-python",
   "name": "python",
   "nbconvert_exporter": "python",
   "pygments_lexer": "ipython3",
   "version": "3.12.2"
  }
 },
 "nbformat": 4,
 "nbformat_minor": 2
}
