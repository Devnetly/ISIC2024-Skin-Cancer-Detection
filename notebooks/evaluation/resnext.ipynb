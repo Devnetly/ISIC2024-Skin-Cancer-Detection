{
 "cells": [
  {
   "cell_type": "markdown",
   "metadata": {},
   "source": [
    "### Necessary Packages"
   ]
  },
  {
   "cell_type": "code",
   "execution_count": 1,
   "metadata": {},
   "outputs": [],
   "source": [
    "import sys\n",
    "import os\n",
    "import torch\n",
    "import pandas as pd\n",
    "sys.path.append('../..')\n",
    "import seaborn as sns\n",
    "import numpy as np\n",
    "from tqdm.notebook import tqdm\n",
    "from src.utils import load, load_checkpoint, seed_everything, score\n",
    "from src.training.cnn_k_fold import create_dataloaders,create_network,Config\n",
    "from src.models import ResNet\n",
    "from sklearn.metrics import accuracy_score,f1_score,precision_score,recall_score,confusion_matrix,auc,roc_curve,roc_auc_score\n",
    "from torch.utils.data import DataLoader\n",
    "from tqdm.notebook import tqdm\n",
    "from definitions import *\n",
    "from functools import reduce"
   ]
  },
  {
   "cell_type": "markdown",
   "metadata": {},
   "source": [
    "### Global"
   ]
  },
  {
   "cell_type": "code",
   "execution_count": 2,
   "metadata": {},
   "outputs": [],
   "source": [
    "EXPIREMENT_NAME = 'resnext'\n",
    "EXPIREMENT_PATH = os.path.join(EXPIREMENTS_DIR,EXPIREMENT_NAME)\n",
    "CHECKPOINTS_PATH = os.path.join(EXPIREMENT_PATH,'checkpoints')\n",
    "CONFIG_PATH = os.path.join(EXPIREMENT_PATH,'config.json')\n",
    "DEVICE = torch.device('cuda' if torch.cuda.is_available() else 'cpu')"
   ]
  },
  {
   "cell_type": "markdown",
   "metadata": {},
   "source": [
    "### Load configurations"
   ]
  },
  {
   "cell_type": "code",
   "execution_count": 3,
   "metadata": {},
   "outputs": [],
   "source": [
    "config = Config(**load(CONFIG_PATH))\n",
    "loaders,test_loader = create_dataloaders(config)"
   ]
  },
  {
   "cell_type": "markdown",
   "metadata": {},
   "source": [
    "### Reproducibility"
   ]
  },
  {
   "cell_type": "code",
   "execution_count": 4,
   "metadata": {},
   "outputs": [],
   "source": [
    "seed_everything(config.seed)"
   ]
  },
  {
   "cell_type": "markdown",
   "metadata": {},
   "source": [
    "### Models loading"
   ]
  },
  {
   "cell_type": "code",
   "execution_count": 5,
   "metadata": {},
   "outputs": [],
   "source": [
    "def create_models(checkpoints_path : str):\n",
    "\n",
    "    models = []\n",
    "    files = sorted(os.listdir(CHECKPOINTS_PATH), key=lambda x: int(x.split('_')[-1].split('.')[0]))\n",
    "\n",
    "    for i,checkpoint in enumerate(tqdm(files)):\n",
    "\n",
    "        model = create_network(config)\n",
    "        checkpoint = load_checkpoint(os.path.join(checkpoints_path, checkpoint), f'checkpoint_fold={i}.pt')\n",
    "        model.load_state_dict(checkpoint['model'])\n",
    "        model.to(DEVICE)\n",
    "        model.eval()\n",
    "        models.append(model)\n",
    "\n",
    "    return models"
   ]
  },
  {
   "cell_type": "code",
   "execution_count": 6,
   "metadata": {},
   "outputs": [
    {
     "data": {
      "application/vnd.jupyter.widget-view+json": {
       "model_id": "b6c57e73ed034029883a3be1187bbd73",
       "version_major": 2,
       "version_minor": 0
      },
      "text/plain": [
       "  0%|          | 0/5 [00:00<?, ?it/s]"
      ]
     },
     "metadata": {},
     "output_type": "display_data"
    }
   ],
   "source": [
    "models = create_models(CHECKPOINTS_PATH)"
   ]
  },
  {
   "cell_type": "code",
   "execution_count": 7,
   "metadata": {},
   "outputs": [],
   "source": [
    "### Save the models\n",
    "for i,model in enumerate(models):\n",
    "    torch.save(model.state_dict(),os.path.join(EXPIREMENT_PATH,f'model_fold={i}.pth'))"
   ]
  },
  {
   "cell_type": "markdown",
   "metadata": {},
   "source": [
    "### Make predictions on individual folds"
   ]
  },
  {
   "cell_type": "code",
   "execution_count": 8,
   "metadata": {},
   "outputs": [],
   "source": [
    "def predict(model: ResNet, dataloader: DataLoader):\n",
    "\n",
    "    model.eval()\n",
    "\n",
    "    y_true = []\n",
    "    y_pred = []\n",
    "\n",
    "    for x,y in tqdm(dataloader):\n",
    "\n",
    "        x = x.to(DEVICE)\n",
    "        y_hat = model.predict(x).detach().cpu().numpy()\n",
    "\n",
    "        y_true.extend(y.numpy())\n",
    "        y_pred.extend(y_hat)\n",
    "\n",
    "    return y_true,y_pred"
   ]
  },
  {
   "cell_type": "code",
   "execution_count": 9,
   "metadata": {},
   "outputs": [],
   "source": [
    "def predict_all(models: list, dataloaders: list[DataLoader] | DataLoader):\n",
    "    \n",
    "    results = {}\n",
    "\n",
    "    for i,model in enumerate(models):\n",
    "\n",
    "        if isinstance(dataloaders,list):\n",
    "            dataloader = dataloaders[i]\n",
    "        else:\n",
    "            dataloader = dataloaders\n",
    "\n",
    "        y_true,y_pred = predict(model,dataloader)\n",
    "\n",
    "        results[f'fold_{i}'] = pd.DataFrame({\n",
    "            'y_true': y_true,\n",
    "            'y_pred': y_pred\n",
    "        })\n",
    "\n",
    "    return results"
   ]
  },
  {
   "cell_type": "code",
   "execution_count": 10,
   "metadata": {},
   "outputs": [
    {
     "data": {
      "application/vnd.jupyter.widget-view+json": {
       "model_id": "b934a13b72e0403ca6193304a18dc42f",
       "version_major": 2,
       "version_minor": 0
      },
      "text/plain": [
       "  0%|          | 0/2089 [00:00<?, ?it/s]"
      ]
     },
     "metadata": {},
     "output_type": "display_data"
    },
    {
     "data": {
      "application/vnd.jupyter.widget-view+json": {
       "model_id": "5f7c9f18d694469c8b4b82c48e076a99",
       "version_major": 2,
       "version_minor": 0
      },
      "text/plain": [
       "  0%|          | 0/2089 [00:00<?, ?it/s]"
      ]
     },
     "metadata": {},
     "output_type": "display_data"
    },
    {
     "data": {
      "application/vnd.jupyter.widget-view+json": {
       "model_id": "f7e591bd01f44700823f59aec267a314",
       "version_major": 2,
       "version_minor": 0
      },
      "text/plain": [
       "  0%|          | 0/2089 [00:00<?, ?it/s]"
      ]
     },
     "metadata": {},
     "output_type": "display_data"
    },
    {
     "data": {
      "application/vnd.jupyter.widget-view+json": {
       "model_id": "f9beacd7019e41c39f0ffd889039a9ed",
       "version_major": 2,
       "version_minor": 0
      },
      "text/plain": [
       "  0%|          | 0/2089 [00:00<?, ?it/s]"
      ]
     },
     "metadata": {},
     "output_type": "display_data"
    },
    {
     "data": {
      "application/vnd.jupyter.widget-view+json": {
       "model_id": "4df397302150495aa7a0736a80838f6c",
       "version_major": 2,
       "version_minor": 0
      },
      "text/plain": [
       "  0%|          | 0/2089 [00:00<?, ?it/s]"
      ]
     },
     "metadata": {},
     "output_type": "display_data"
    }
   ],
   "source": [
    "result = predict_all(models,list((val_loader for _,val_loader in loaders)))"
   ]
  },
  {
   "cell_type": "code",
   "execution_count": 11,
   "metadata": {},
   "outputs": [
    {
     "data": {
      "text/html": [
       "<div>\n",
       "<style scoped>\n",
       "    .dataframe tbody tr th:only-of-type {\n",
       "        vertical-align: middle;\n",
       "    }\n",
       "\n",
       "    .dataframe tbody tr th {\n",
       "        vertical-align: top;\n",
       "    }\n",
       "\n",
       "    .dataframe thead th {\n",
       "        text-align: right;\n",
       "    }\n",
       "</style>\n",
       "<table border=\"1\" class=\"dataframe\">\n",
       "  <thead>\n",
       "    <tr style=\"text-align: right;\">\n",
       "      <th></th>\n",
       "      <th>y_true</th>\n",
       "      <th>y_pred</th>\n",
       "    </tr>\n",
       "  </thead>\n",
       "  <tbody>\n",
       "    <tr>\n",
       "      <th>0</th>\n",
       "      <td>0.0</td>\n",
       "      <td>9.136698e-08</td>\n",
       "    </tr>\n",
       "    <tr>\n",
       "      <th>1</th>\n",
       "      <td>0.0</td>\n",
       "      <td>4.786759e-04</td>\n",
       "    </tr>\n",
       "    <tr>\n",
       "      <th>2</th>\n",
       "      <td>0.0</td>\n",
       "      <td>1.483607e-02</td>\n",
       "    </tr>\n",
       "    <tr>\n",
       "      <th>3</th>\n",
       "      <td>0.0</td>\n",
       "      <td>2.545639e-06</td>\n",
       "    </tr>\n",
       "    <tr>\n",
       "      <th>4</th>\n",
       "      <td>0.0</td>\n",
       "      <td>1.321754e-05</td>\n",
       "    </tr>\n",
       "  </tbody>\n",
       "</table>\n",
       "</div>"
      ],
      "text/plain": [
       "   y_true        y_pred\n",
       "0     0.0  9.136698e-08\n",
       "1     0.0  4.786759e-04\n",
       "2     0.0  1.483607e-02\n",
       "3     0.0  2.545639e-06\n",
       "4     0.0  1.321754e-05"
      ]
     },
     "execution_count": 11,
     "metadata": {},
     "output_type": "execute_result"
    }
   ],
   "source": [
    "result['fold_0'].head()"
   ]
  },
  {
   "cell_type": "markdown",
   "metadata": {},
   "source": [
    "### Calculate Fold-metrics"
   ]
  },
  {
   "cell_type": "code",
   "execution_count": 12,
   "metadata": {},
   "outputs": [],
   "source": [
    "def calculate_metrics(y_true : np.ndarray,y_hard : np.ndarray,y_prob : np.ndarray) -> pd.Series:\n",
    "\n",
    "    accuracy = accuracy_score(y_true,y_hard)\n",
    "    f1 = f1_score(y_true,y_hard)\n",
    "    precision = precision_score(y_true,y_hard)\n",
    "    recall = recall_score(y_true,y_hard)\n",
    "    roc_auc = roc_auc_score(y_true,y_prob)\n",
    "    pauc = score(y_true,y_prob)\n",
    "\n",
    "    results = {\n",
    "        'accuracy': accuracy,\n",
    "        'f1': f1,\n",
    "        'precision': precision,\n",
    "        'recall': recall,\n",
    "        'roc_auc': roc_auc,\n",
    "        'pauc': pauc\n",
    "    }\n",
    "\n",
    "    return pd.Series(results)"
   ]
  },
  {
   "cell_type": "code",
   "execution_count": 13,
   "metadata": {},
   "outputs": [],
   "source": [
    "def calculate_all_metrics(result: dict[str,pd.DataFrame]) -> pd.DataFrame:\n",
    "\n",
    "    metrics = []\n",
    "\n",
    "    for fold in result.keys():\n",
    "\n",
    "        y_true = result[fold]['y_true']\n",
    "        y_pred = np.int32(result[fold]['y_pred'] > 0.5)\n",
    "        y_prob = result[fold]['y_pred']\n",
    "\n",
    "        fold_result = calculate_metrics(y_true,y_pred,y_prob)\n",
    "        fold_result.name = fold\n",
    "\n",
    "        metrics.append(fold_result)\n",
    "\n",
    "    metrics = pd.DataFrame(metrics)\n",
    "\n",
    "    means = metrics.mean(axis=0)\n",
    "    stds = metrics.std(axis=0)\n",
    "    metrics.loc['mean'] = means\n",
    "    metrics.loc['std'] = stds\n",
    "\n",
    "    return metrics"
   ]
  },
  {
   "cell_type": "code",
   "execution_count": 14,
   "metadata": {},
   "outputs": [],
   "source": [
    "fold_metrics = calculate_all_metrics(result)"
   ]
  },
  {
   "cell_type": "code",
   "execution_count": 15,
   "metadata": {},
   "outputs": [
    {
     "data": {
      "text/html": [
       "<div>\n",
       "<style scoped>\n",
       "    .dataframe tbody tr th:only-of-type {\n",
       "        vertical-align: middle;\n",
       "    }\n",
       "\n",
       "    .dataframe tbody tr th {\n",
       "        vertical-align: top;\n",
       "    }\n",
       "\n",
       "    .dataframe thead th {\n",
       "        text-align: right;\n",
       "    }\n",
       "</style>\n",
       "<table border=\"1\" class=\"dataframe\">\n",
       "  <thead>\n",
       "    <tr style=\"text-align: right;\">\n",
       "      <th></th>\n",
       "      <th>accuracy</th>\n",
       "      <th>f1</th>\n",
       "      <th>precision</th>\n",
       "      <th>recall</th>\n",
       "      <th>roc_auc</th>\n",
       "      <th>pauc</th>\n",
       "    </tr>\n",
       "  </thead>\n",
       "  <tbody>\n",
       "    <tr>\n",
       "      <th>fold_0</th>\n",
       "      <td>0.975959</td>\n",
       "      <td>0.033674</td>\n",
       "      <td>0.017478</td>\n",
       "      <td>0.459016</td>\n",
       "      <td>0.878395</td>\n",
       "      <td>0.117352</td>\n",
       "    </tr>\n",
       "    <tr>\n",
       "      <th>fold_1</th>\n",
       "      <td>0.975600</td>\n",
       "      <td>0.046756</td>\n",
       "      <td>0.024450</td>\n",
       "      <td>0.533333</td>\n",
       "      <td>0.887761</td>\n",
       "      <td>0.111597</td>\n",
       "    </tr>\n",
       "    <tr>\n",
       "      <th>fold_2</th>\n",
       "      <td>0.992400</td>\n",
       "      <td>0.048689</td>\n",
       "      <td>0.027311</td>\n",
       "      <td>0.224138</td>\n",
       "      <td>0.893119</td>\n",
       "      <td>0.125653</td>\n",
       "    </tr>\n",
       "    <tr>\n",
       "      <th>fold_3</th>\n",
       "      <td>0.980237</td>\n",
       "      <td>0.057102</td>\n",
       "      <td>0.030211</td>\n",
       "      <td>0.519481</td>\n",
       "      <td>0.921673</td>\n",
       "      <td>0.140508</td>\n",
       "    </tr>\n",
       "    <tr>\n",
       "      <th>fold_4</th>\n",
       "      <td>0.981419</td>\n",
       "      <td>0.037209</td>\n",
       "      <td>0.019576</td>\n",
       "      <td>0.375000</td>\n",
       "      <td>0.872693</td>\n",
       "      <td>0.112543</td>\n",
       "    </tr>\n",
       "    <tr>\n",
       "      <th>mean</th>\n",
       "      <td>0.981123</td>\n",
       "      <td>0.044686</td>\n",
       "      <td>0.023805</td>\n",
       "      <td>0.422194</td>\n",
       "      <td>0.890728</td>\n",
       "      <td>0.121531</td>\n",
       "    </tr>\n",
       "    <tr>\n",
       "      <th>std</th>\n",
       "      <td>0.006805</td>\n",
       "      <td>0.009376</td>\n",
       "      <td>0.005284</td>\n",
       "      <td>0.127108</td>\n",
       "      <td>0.019036</td>\n",
       "      <td>0.011980</td>\n",
       "    </tr>\n",
       "  </tbody>\n",
       "</table>\n",
       "</div>"
      ],
      "text/plain": [
       "        accuracy        f1  precision    recall   roc_auc      pauc\n",
       "fold_0  0.975959  0.033674   0.017478  0.459016  0.878395  0.117352\n",
       "fold_1  0.975600  0.046756   0.024450  0.533333  0.887761  0.111597\n",
       "fold_2  0.992400  0.048689   0.027311  0.224138  0.893119  0.125653\n",
       "fold_3  0.980237  0.057102   0.030211  0.519481  0.921673  0.140508\n",
       "fold_4  0.981419  0.037209   0.019576  0.375000  0.872693  0.112543\n",
       "mean    0.981123  0.044686   0.023805  0.422194  0.890728  0.121531\n",
       "std     0.006805  0.009376   0.005284  0.127108  0.019036  0.011980"
      ]
     },
     "execution_count": 15,
     "metadata": {},
     "output_type": "execute_result"
    }
   ],
   "source": [
    "fold_metrics"
   ]
  },
  {
   "cell_type": "code",
   "execution_count": 16,
   "metadata": {},
   "outputs": [
    {
     "data": {
      "text/plain": [
       "<Axes: ylabel='pauc'>"
      ]
     },
     "execution_count": 16,
     "metadata": {},
     "output_type": "execute_result"
    },
    {
     "data": {
      "image/png": "[encoded data removed]",
      "text/plain": [
       "<Figure size 640x480 with 1 Axes>"
      ]
     },
     "metadata": {},
     "output_type": "display_data"
    }
   ],
   "source": [
    "sns.barplot(fold_metrics['pauc'].drop('std'))"
   ]
  },
  {
   "cell_type": "markdown",
   "metadata": {},
   "source": [
    "### Calculate test-set metrics"
   ]
  },
  {
   "cell_type": "code",
   "execution_count": 17,
   "metadata": {},
   "outputs": [
    {
     "data": {
      "application/vnd.jupyter.widget-view+json": {
       "model_id": "60f79903223e43cc90faba02264e19f1",
       "version_major": 2,
       "version_minor": 0
      },
      "text/plain": [
       "  0%|          | 0/2089 [00:00<?, ?it/s]"
      ]
     },
     "metadata": {},
     "output_type": "display_data"
    },
    {
     "data": {
      "application/vnd.jupyter.widget-view+json": {
       "model_id": "fe03eec2a8ef4f128d2663d828b096df",
       "version_major": 2,
       "version_minor": 0
      },
      "text/plain": [
       "  0%|          | 0/2089 [00:00<?, ?it/s]"
      ]
     },
     "metadata": {},
     "output_type": "display_data"
    },
    {
     "data": {
      "application/vnd.jupyter.widget-view+json": {
       "model_id": "6afac031d7f24641a743b2f8da6b4ea2",
       "version_major": 2,
       "version_minor": 0
      },
      "text/plain": [
       "  0%|          | 0/2089 [00:00<?, ?it/s]"
      ]
     },
     "metadata": {},
     "output_type": "display_data"
    },
    {
     "data": {
      "application/vnd.jupyter.widget-view+json": {
       "model_id": "499641a60aee4caa841703bddb2cdd90",
       "version_major": 2,
       "version_minor": 0
      },
      "text/plain": [
       "  0%|          | 0/2089 [00:00<?, ?it/s]"
      ]
     },
     "metadata": {},
     "output_type": "display_data"
    },
    {
     "data": {
      "application/vnd.jupyter.widget-view+json": {
       "model_id": "58dfba91ed1841958b0e02b1d993f302",
       "version_major": 2,
       "version_minor": 0
      },
      "text/plain": [
       "  0%|          | 0/2089 [00:00<?, ?it/s]"
      ]
     },
     "metadata": {},
     "output_type": "display_data"
    }
   ],
   "source": [
    "test_result = predict_all(models,test_loader)"
   ]
  },
  {
   "cell_type": "code",
   "execution_count": 18,
   "metadata": {},
   "outputs": [
    {
     "data": {
      "text/html": [
       "<div>\n",
       "<style scoped>\n",
       "    .dataframe tbody tr th:only-of-type {\n",
       "        vertical-align: middle;\n",
       "    }\n",
       "\n",
       "    .dataframe tbody tr th {\n",
       "        vertical-align: top;\n",
       "    }\n",
       "\n",
       "    .dataframe thead th {\n",
       "        text-align: right;\n",
       "    }\n",
       "</style>\n",
       "<table border=\"1\" class=\"dataframe\">\n",
       "  <thead>\n",
       "    <tr style=\"text-align: right;\">\n",
       "      <th></th>\n",
       "      <th>y_true</th>\n",
       "      <th>y_pred</th>\n",
       "    </tr>\n",
       "  </thead>\n",
       "  <tbody>\n",
       "    <tr>\n",
       "      <th>0</th>\n",
       "      <td>0.0</td>\n",
       "      <td>2.749417e-06</td>\n",
       "    </tr>\n",
       "    <tr>\n",
       "      <th>1</th>\n",
       "      <td>0.0</td>\n",
       "      <td>4.101090e-08</td>\n",
       "    </tr>\n",
       "    <tr>\n",
       "      <th>2</th>\n",
       "      <td>0.0</td>\n",
       "      <td>4.551074e-05</td>\n",
       "    </tr>\n",
       "    <tr>\n",
       "      <th>3</th>\n",
       "      <td>0.0</td>\n",
       "      <td>5.332190e-10</td>\n",
       "    </tr>\n",
       "    <tr>\n",
       "      <th>4</th>\n",
       "      <td>0.0</td>\n",
       "      <td>2.461496e-01</td>\n",
       "    </tr>\n",
       "  </tbody>\n",
       "</table>\n",
       "</div>"
      ],
      "text/plain": [
       "   y_true        y_pred\n",
       "0     0.0  2.749417e-06\n",
       "1     0.0  4.101090e-08\n",
       "2     0.0  4.551074e-05\n",
       "3     0.0  5.332190e-10\n",
       "4     0.0  2.461496e-01"
      ]
     },
     "execution_count": 18,
     "metadata": {},
     "output_type": "execute_result"
    }
   ],
   "source": [
    "test_result['fold_0'].head()"
   ]
  },
  {
   "cell_type": "code",
   "execution_count": 19,
   "metadata": {},
   "outputs": [],
   "source": [
    "test_metrics = calculate_all_metrics(test_result)"
   ]
  },
  {
   "cell_type": "code",
   "execution_count": 20,
   "metadata": {},
   "outputs": [
    {
     "data": {
      "text/html": [
       "<div>\n",
       "<style scoped>\n",
       "    .dataframe tbody tr th:only-of-type {\n",
       "        vertical-align: middle;\n",
       "    }\n",
       "\n",
       "    .dataframe tbody tr th {\n",
       "        vertical-align: top;\n",
       "    }\n",
       "\n",
       "    .dataframe thead th {\n",
       "        text-align: right;\n",
       "    }\n",
       "</style>\n",
       "<table border=\"1\" class=\"dataframe\">\n",
       "  <thead>\n",
       "    <tr style=\"text-align: right;\">\n",
       "      <th></th>\n",
       "      <th>accuracy</th>\n",
       "      <th>f1</th>\n",
       "      <th>precision</th>\n",
       "      <th>recall</th>\n",
       "      <th>roc_auc</th>\n",
       "      <th>pauc</th>\n",
       "    </tr>\n",
       "  </thead>\n",
       "  <tbody>\n",
       "    <tr>\n",
       "      <th>fold_0</th>\n",
       "      <td>0.972159</td>\n",
       "      <td>0.018977</td>\n",
       "      <td>0.009788</td>\n",
       "      <td>0.310345</td>\n",
       "      <td>0.875833</td>\n",
       "      <td>0.121220</td>\n",
       "    </tr>\n",
       "    <tr>\n",
       "      <th>fold_1</th>\n",
       "      <td>0.973266</td>\n",
       "      <td>0.025095</td>\n",
       "      <td>0.012958</td>\n",
       "      <td>0.396552</td>\n",
       "      <td>0.878451</td>\n",
       "      <td>0.113461</td>\n",
       "    </tr>\n",
       "    <tr>\n",
       "      <th>fold_2</th>\n",
       "      <td>0.990994</td>\n",
       "      <td>0.029032</td>\n",
       "      <td>0.016014</td>\n",
       "      <td>0.155172</td>\n",
       "      <td>0.843698</td>\n",
       "      <td>0.100893</td>\n",
       "    </tr>\n",
       "    <tr>\n",
       "      <th>fold_3</th>\n",
       "      <td>0.979325</td>\n",
       "      <td>0.030856</td>\n",
       "      <td>0.016082</td>\n",
       "      <td>0.379310</td>\n",
       "      <td>0.906062</td>\n",
       "      <td>0.138865</td>\n",
       "    </tr>\n",
       "    <tr>\n",
       "      <th>fold_4</th>\n",
       "      <td>0.979385</td>\n",
       "      <td>0.030942</td>\n",
       "      <td>0.016129</td>\n",
       "      <td>0.379310</td>\n",
       "      <td>0.880485</td>\n",
       "      <td>0.117158</td>\n",
       "    </tr>\n",
       "    <tr>\n",
       "      <th>mean</th>\n",
       "      <td>0.979025</td>\n",
       "      <td>0.026981</td>\n",
       "      <td>0.014194</td>\n",
       "      <td>0.324138</td>\n",
       "      <td>0.876906</td>\n",
       "      <td>0.118319</td>\n",
       "    </tr>\n",
       "    <tr>\n",
       "      <th>std</th>\n",
       "      <td>0.007480</td>\n",
       "      <td>0.005063</td>\n",
       "      <td>0.002809</td>\n",
       "      <td>0.100089</td>\n",
       "      <td>0.022188</td>\n",
       "      <td>0.013776</td>\n",
       "    </tr>\n",
       "  </tbody>\n",
       "</table>\n",
       "</div>"
      ],
      "text/plain": [
       "        accuracy        f1  precision    recall   roc_auc      pauc\n",
       "fold_0  0.972159  0.018977   0.009788  0.310345  0.875833  0.121220\n",
       "fold_1  0.973266  0.025095   0.012958  0.396552  0.878451  0.113461\n",
       "fold_2  0.990994  0.029032   0.016014  0.155172  0.843698  0.100893\n",
       "fold_3  0.979325  0.030856   0.016082  0.379310  0.906062  0.138865\n",
       "fold_4  0.979385  0.030942   0.016129  0.379310  0.880485  0.117158\n",
       "mean    0.979025  0.026981   0.014194  0.324138  0.876906  0.118319\n",
       "std     0.007480  0.005063   0.002809  0.100089  0.022188  0.013776"
      ]
     },
     "execution_count": 20,
     "metadata": {},
     "output_type": "execute_result"
    }
   ],
   "source": [
    "test_metrics"
   ]
  },
  {
   "cell_type": "code",
   "execution_count": 21,
   "metadata": {},
   "outputs": [
    {
     "data": {
      "text/plain": [
       "<Axes: ylabel='pauc'>"
      ]
     },
     "execution_count": 21,
     "metadata": {},
     "output_type": "execute_result"
    },
    {
     "data": {
      "image/png": "[encoded data removed]",
      "text/plain": [
       "<Figure size 640x480 with 1 Axes>"
      ]
     },
     "metadata": {},
     "output_type": "display_data"
    }
   ],
   "source": [
    "sns.barplot(test_metrics['pauc'].drop('std'))"
   ]
  },
  {
   "cell_type": "markdown",
   "metadata": {},
   "source": [
    "### The mean of the models"
   ]
  },
  {
   "cell_type": "code",
   "execution_count": 22,
   "metadata": {},
   "outputs": [],
   "source": [
    "mean = reduce(lambda a,b : a+b,(test_result[key]['y_pred'] for key in test_result.keys())) / len(test_result.keys())"
   ]
  },
  {
   "cell_type": "code",
   "execution_count": 23,
   "metadata": {},
   "outputs": [
    {
     "data": {
      "text/plain": [
       "accuracy     0.990904\n",
       "f1           0.050000\n",
       "precision    0.027491\n",
       "recall       0.275862\n",
       "roc_auc      0.909527\n",
       "pauc         0.138643\n",
       "Name: mean, dtype: float64"
      ]
     },
     "execution_count": 23,
     "metadata": {},
     "output_type": "execute_result"
    }
   ],
   "source": [
    "mean_metrcis = calculate_metrics(test_result['fold_0']['y_true'],np.int32(mean > 0.5),mean)\n",
    "mean_metrcis.name = 'mean'\n",
    "mean_metrcis"
   ]
  }
 ],
 "metadata": {
  "kernelspec": {
   "display_name": "project",
   "language": "python",
   "name": "python3"
  },
  "language_info": {
   "codemirror_mode": {
    "name": "ipython",
    "version": 3
   },
   "file_extension": ".py",
   "mimetype": "text/x-python",
   "name": "python",
   "nbconvert_exporter": "python",
   "pygments_lexer": "ipython3",
   "version": "3.12.2"
  }
 },
 "nbformat": 4,
 "nbformat_minor": 2
}
